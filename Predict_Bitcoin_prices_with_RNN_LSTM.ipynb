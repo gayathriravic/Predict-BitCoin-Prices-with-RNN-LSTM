{
  "nbformat": 4,
  "nbformat_minor": 0,
  "metadata": {
    "colab": {
      "name": "Predict Bitcoin prices with RNN LSTM.ipynb",
      "version": "0.3.2",
      "views": {},
      "default_view": {},
      "provenance": [],
      "collapsed_sections": []
    },
    "kernelspec": {
      "name": "python3",
      "display_name": "Python 3"
    }
  },
  "cells": [
    {
      "metadata": {
        "id": "PfPMtiWwPLyx",
        "colab_type": "code",
        "colab": {
          "autoexec": {
            "startup": false,
            "wait_interval": 0
          }
        }
      },
      "cell_type": "code",
      "source": [
        ""
      ],
      "execution_count": 0,
      "outputs": []
    },
    {
      "metadata": {
        "id": "7yF_EOncZL34",
        "colab_type": "text"
      },
      "cell_type": "markdown",
      "source": [
        "** PREDICT BITCOIN WITH RNN-LSTM IN KERAS**\n",
        "\n",
        "\n",
        "\n",
        "\n",
        "\n",
        "\n",
        "\n",
        "---\n",
        "\n",
        "\n",
        "\n",
        "\n",
        "\n"
      ]
    },
    {
      "metadata": {
        "id": "67UZxDT0ZVxr",
        "colab_type": "code",
        "colab": {
          "autoexec": {
            "startup": false,
            "wait_interval": 0
          }
        }
      },
      "cell_type": "code",
      "source": [
        ""
      ],
      "execution_count": 0,
      "outputs": []
    },
    {
      "metadata": {
        "id": "2i7xb8raZpyZ",
        "colab_type": "text"
      },
      "cell_type": "markdown",
      "source": [
        "Importing the libraries:\n",
        "\n",
        "\n"
      ]
    },
    {
      "metadata": {
        "id": "wmQId3esZtGr",
        "colab_type": "code",
        "colab": {
          "autoexec": {
            "startup": false,
            "wait_interval": 0
          }
        }
      },
      "cell_type": "code",
      "source": [
        "import datetime\n",
        "import time\n",
        "import gc\n",
        "import pandas as pd\n",
        "import numpy as np\n",
        "import matplotlib.pyplot as plt\n",
        "\n",
        "\n",
        "import keras\n",
        "from keras.models import Sequential\n",
        "from keras.layers import Activation, Dense\n",
        "from keras.layers import LSTM\n",
        "from keras.layers import Dropout"
      ],
      "execution_count": 0,
      "outputs": []
    },
    {
      "metadata": {
        "id": "JtKxRMWdjwNw",
        "colab_type": "code",
        "colab": {
          "autoexec": {
            "startup": false,
            "wait_interval": 0
          }
        }
      },
      "cell_type": "code",
      "source": [
        "\n",
        "neurons = 512                 # number of hidden units in the LSTM layer\n",
        "activation_function = 'tanh'  # activation function for LSTM and Dense layer\n",
        "loss = 'mse'                  # loss function for calculating the gradient, in this case Mean Squared Error\n",
        "optimizer= 'adam'             # optimizer for applying gradient decent\n",
        "dropout = 0.25                # dropout ratio used after each LSTM layer to avoid overfitting\n",
        "batch_size = 128              \n",
        "epochs = 53                  \n",
        "window_len = 7               # is an intiger to be used as the look back window for creating a single input sample.\n",
        "size = 0.8           # porportion of data to be used for training\n",
        "merge_date = '2018-01-01'     # the earliest date which we have data for both ETH and BTC or any other provided coin"
      ],
      "execution_count": 0,
      "outputs": []
    },
    {
      "metadata": {
        "id": "__2nm-VgZm5A",
        "colab_type": "text"
      },
      "cell_type": "markdown",
      "source": [
        "Getting the data -  historical data from www.coinmarketcap.com"
      ]
    },
    {
      "metadata": {
        "id": "Nbshwq6yaFiq",
        "colab_type": "code",
        "colab": {
          "autoexec": {
            "startup": false,
            "wait_interval": 0
          }
        }
      },
      "cell_type": "code",
      "source": [
        "def get_historical_data(market, tag = True):   \n",
        "  \"\"\"\n",
        "  This function will use the coinmarketcap.com url for provided coin/token page. \n",
        "  The function reads the Open, High, Low, Close Prices and Volume indicators (OHLCV) and Market cap.\n",
        "  Convert any non-numeric values to numeric.\n",
        "  If a tag name is provided, the tag name will be added to every column.\n",
        "  Returns: A Pandas DataFrame\n",
        "  \n",
        "  \"\"\"\n",
        "  market_dataframe = pd.read_html(\"https://coinmarketcap.com/currencies/\" + market + \"/historical-data/?start=20130428&end=\"+time.strftime(\"%Y%m%d\"), flavor='html5lib')[0]\n",
        "  #print(market_dataframe.head(5))\n",
        "  #market_dataframe = market_dataframe.assign(Date=pd.to_datetime(market_dataframe['Date']))  \n",
        "  market_dataframe = market_dataframe.assign(Date= pd.to_datetime(market_dataframe['Date'])) # convert date to numeric.\n",
        "  print(market_dataframe.head(5))\n",
        "  market_dataframe['Volume'] = (pd.to_numeric(market_dataframe['Volume'], errors='coerce').fillna(0)) # convert any missing values to zero.\n",
        "  if tag:\n",
        "    market_dataframe.columns = [market_dataframe.columns[0]] + [tag + '_' + i for i in market_dataframe.columns[1:]]\n",
        "    market_dataframe.rename(columns={tag+'_'+'Open*': tag+'_'+'Open', tag+'_'+'Close**': tag+'_'+'Close'}, inplace=True)\n",
        "\n",
        "  return market_dataframe\n",
        "  "
      ],
      "execution_count": 0,
      "outputs": []
    },
    {
      "metadata": {
        "id": "U8YpwGmvbOg5",
        "colab_type": "code",
        "colab": {
          "autoexec": {
            "startup": false,
            "wait_interval": 0
          },
          "base_uri": "https://localhost:8080/",
          "height": 306
        },
        "outputId": "4d874502-f53d-4864-f43b-30ad4d597c45",
        "executionInfo": {
          "status": "ok",
          "timestamp": 1531904950168,
          "user_tz": -330,
          "elapsed": 5367,
          "user": {
            "displayName": "Gayathri Ravichandran",
            "photoUrl": "https://lh3.googleusercontent.com/a/default-user=s128",
            "userId": "109409247234810205619"
          }
        }
      },
      "cell_type": "code",
      "source": [
        "btc_data = get_historical_data('bitcoin',tag = 'BTC')\n",
        "btc_data.head(5)"
      ],
      "execution_count": 102,
      "outputs": [
        {
          "output_type": "stream",
          "text": [
            "        Date    Open*     High      Low  Close**      Volume    Market Cap\n",
            "0 2018-07-17  6739.65  7387.24  6684.17  7321.04  5961950000  115602000000\n",
            "1 2018-07-16  6357.01  6741.75  6357.01  6741.75  4725800000  109029000000\n",
            "2 2018-07-15  6272.70  6403.46  6256.51  6359.64  3285460000  107573000000\n",
            "3 2018-07-14  6247.50  6298.19  6212.22  6276.12  2923670000  107130000000\n",
            "4 2018-07-13  6235.03  6310.55  6192.24  6238.05  3805400000  106906000000\n"
          ],
          "name": "stdout"
        },
        {
          "output_type": "execute_result",
          "data": {
            "text/html": [
              "<div>\n",
              "<style scoped>\n",
              "    .dataframe tbody tr th:only-of-type {\n",
              "        vertical-align: middle;\n",
              "    }\n",
              "\n",
              "    .dataframe tbody tr th {\n",
              "        vertical-align: top;\n",
              "    }\n",
              "\n",
              "    .dataframe thead th {\n",
              "        text-align: right;\n",
              "    }\n",
              "</style>\n",
              "<table border=\"1\" class=\"dataframe\">\n",
              "  <thead>\n",
              "    <tr style=\"text-align: right;\">\n",
              "      <th></th>\n",
              "      <th>Date</th>\n",
              "      <th>BTC_Open</th>\n",
              "      <th>BTC_High</th>\n",
              "      <th>BTC_Low</th>\n",
              "      <th>BTC_Close</th>\n",
              "      <th>BTC_Volume</th>\n",
              "      <th>BTC_Market Cap</th>\n",
              "    </tr>\n",
              "  </thead>\n",
              "  <tbody>\n",
              "    <tr>\n",
              "      <th>0</th>\n",
              "      <td>2018-07-17</td>\n",
              "      <td>6739.65</td>\n",
              "      <td>7387.24</td>\n",
              "      <td>6684.17</td>\n",
              "      <td>7321.04</td>\n",
              "      <td>5.961950e+09</td>\n",
              "      <td>115602000000</td>\n",
              "    </tr>\n",
              "    <tr>\n",
              "      <th>1</th>\n",
              "      <td>2018-07-16</td>\n",
              "      <td>6357.01</td>\n",
              "      <td>6741.75</td>\n",
              "      <td>6357.01</td>\n",
              "      <td>6741.75</td>\n",
              "      <td>4.725800e+09</td>\n",
              "      <td>109029000000</td>\n",
              "    </tr>\n",
              "    <tr>\n",
              "      <th>2</th>\n",
              "      <td>2018-07-15</td>\n",
              "      <td>6272.70</td>\n",
              "      <td>6403.46</td>\n",
              "      <td>6256.51</td>\n",
              "      <td>6359.64</td>\n",
              "      <td>3.285460e+09</td>\n",
              "      <td>107573000000</td>\n",
              "    </tr>\n",
              "    <tr>\n",
              "      <th>3</th>\n",
              "      <td>2018-07-14</td>\n",
              "      <td>6247.50</td>\n",
              "      <td>6298.19</td>\n",
              "      <td>6212.22</td>\n",
              "      <td>6276.12</td>\n",
              "      <td>2.923670e+09</td>\n",
              "      <td>107130000000</td>\n",
              "    </tr>\n",
              "    <tr>\n",
              "      <th>4</th>\n",
              "      <td>2018-07-13</td>\n",
              "      <td>6235.03</td>\n",
              "      <td>6310.55</td>\n",
              "      <td>6192.24</td>\n",
              "      <td>6238.05</td>\n",
              "      <td>3.805400e+09</td>\n",
              "      <td>106906000000</td>\n",
              "    </tr>\n",
              "  </tbody>\n",
              "</table>\n",
              "</div>"
            ],
            "text/plain": [
              "        Date  BTC_Open  BTC_High  BTC_Low  BTC_Close    BTC_Volume  \\\n",
              "0 2018-07-17   6739.65   7387.24  6684.17    7321.04  5.961950e+09   \n",
              "1 2018-07-16   6357.01   6741.75  6357.01    6741.75  4.725800e+09   \n",
              "2 2018-07-15   6272.70   6403.46  6256.51    6359.64  3.285460e+09   \n",
              "3 2018-07-14   6247.50   6298.19  6212.22    6276.12  2.923670e+09   \n",
              "4 2018-07-13   6235.03   6310.55  6192.24    6238.05  3.805400e+09   \n",
              "\n",
              "   BTC_Market Cap  \n",
              "0    115602000000  \n",
              "1    109029000000  \n",
              "2    107573000000  \n",
              "3    107130000000  \n",
              "4    106906000000  "
            ]
          },
          "metadata": {
            "tags": []
          },
          "execution_count": 102
        }
      ]
    },
    {
      "metadata": {
        "id": "axM6os1cdJSd",
        "colab_type": "code",
        "colab": {
          "autoexec": {
            "startup": false,
            "wait_interval": 0
          }
        }
      },
      "cell_type": "code",
      "source": [
        ""
      ],
      "execution_count": 0,
      "outputs": []
    },
    {
      "metadata": {
        "id": "DOSQLm3GdQCm",
        "colab_type": "text"
      },
      "cell_type": "markdown",
      "source": [
        "DATA PREPARATION:\n",
        "\n",
        "\n",
        "1.   Dealing with Missing values. ( Replace them with a zero)\n",
        "2.   Removing unnecessary columns ( Feature selection)\n",
        "3.   Sort the data based on date. (Most recent first)\n",
        "4.   Split the data for training and testing\n",
        "5.   Convert the data to a numpy array\n",
        "\n"
      ]
    },
    {
      "metadata": {
        "id": "X1ifzNoOdvNA",
        "colab_type": "code",
        "colab": {
          "autoexec": {
            "startup": false,
            "wait_interval": 0
          }
        }
      },
      "cell_type": "code",
      "source": [
        "# Missing values have been dealt with in the previous function.\n",
        "\n",
        "def feature_selection(data):\n",
        "  \"\"\"\n",
        "  This function drops unnecessary columns and sorts the dataframe in descending order based on the date (most recent first)\n",
        "  \n",
        "  \n",
        "  \"\"\"\n",
        "  data = data[['Date']+[coin+metric for coin in ['BTC_', 'ETH_'] for metric in ['Close','Volume']]]\n",
        "  data = data.sort_values(by='Date')\n",
        "  return data"
      ],
      "execution_count": 0,
      "outputs": []
    },
    {
      "metadata": {
        "id": "MeEvlByJfKqF",
        "colab_type": "code",
        "colab": {
          "autoexec": {
            "startup": false,
            "wait_interval": 0
          }
        }
      },
      "cell_type": "code",
      "source": [
        "def merge_data(a,b,from_date = merge_date):\n",
        "  \"\"\"\n",
        "  a: first DataFrame\n",
        "  b: second DataFrame\n",
        "  from_date: includes the data from the provided date and drops the any data before that date.\n",
        "  returns merged data as Pandas DataFrame\n",
        "  \"\"\"\n",
        "  \n",
        "  merged_data = pd.merge(a, b, on=['Date'])\n",
        "  merged_data = merged_data[merged_data['Date']>=from_date]\n",
        "  return merged_data"
      ],
      "execution_count": 0,
      "outputs": []
    },
    {
      "metadata": {
        "id": "ndsdfc38gHEf",
        "colab_type": "code",
        "colab": {
          "autoexec": {
            "startup": false,
            "wait_interval": 0
          }
        }
      },
      "cell_type": "code",
      "source": [
        "def add_volatility(data, coins=['BTC', 'ETH']):\n",
        "  \"\"\"\n",
        "  data: input data, pandas DataFrame\n",
        "  coins: default is for 'btc and 'eth'. It could be changed as needed\n",
        "  This function calculates the volatility and close_off_high of each given coin in 24 hours, \n",
        "  and adds the result as new columns to the DataFrame.\n",
        "  Return: DataFrame with added columns\n",
        "  \"\"\"\n",
        "  for coin in coins:\n",
        "    # calculate the daily change\n",
        "    kwargs = {coin + '_change': lambda x: (x[coin + '_Close'] - x[coin + '_Open']) / x[coin + '_Open'],\n",
        "             coin + '_close_off_high': lambda x: 2*(x[coin + '_High'] - x[coin + '_Close']) / (x[coin + '_High'] - x[coin + '_Low']) - 1,  #close-off-high\n",
        "             coin + '_volatility': lambda x: (x[coin + '_High'] - x[coin + '_Low']) / (x[coin + '_Open'])}\n",
        "    data = data.assign(**kwargs)\n",
        "  return data"
      ],
      "execution_count": 0,
      "outputs": []
    },
    {
      "metadata": {
        "id": "Tu9Ij1I5h1Qp",
        "colab_type": "code",
        "colab": {
          "autoexec": {
            "startup": false,
            "wait_interval": 0
          }
        }
      },
      "cell_type": "code",
      "source": [
        "def split_data(data,size = 0.8):\n",
        "  \"\"\"\n",
        "  size: proportion of the data to be used for training\n",
        "  This function splits the data into training_set and test_set based on the given training_size\n",
        "  Return: train_set and test_set as pandas DataFrame\n",
        "  \"\"\"\n",
        "  \n",
        "  return data[:int(size*len(data))], data[int(training_size*len(data)):]\n"
      ],
      "execution_count": 0,
      "outputs": []
    },
    {
      "metadata": {
        "id": "hb1s768Fib9o",
        "colab_type": "code",
        "colab": {
          "autoexec": {
            "startup": false,
            "wait_interval": 0
          }
        }
      },
      "cell_type": "code",
      "source": [
        "def create_inputs(data,coins = ['BTC','ETH'],window_len = window_len):\n",
        "  \"\"\"\n",
        "  data: pandas DataFrame, this could be either training_set or test_set\n",
        "  coins: coin datas which will be used as the input. Default is 'btc', 'eth' (Bitcoin and Ethereum).\n",
        "  window_len: is an integer to be used as the look back window for creating a single input sample.\n",
        "  This function will create input array X from the given dataset and will normalize 'Close' and 'Volume' between 0 and 1\n",
        "  Return: X, the input for our model as a python list which later needs to be converted to numpy array.\n",
        "  \n",
        "  \"\"\"\n",
        "  \n",
        "  norm_cols = [coin + metric for coin in coins for metric in ['_Close', '_Volume']]  # columns to be normalized.\n",
        "  #input = []\n",
        "  inputs = []\n",
        "  for i in range(len(data) - window_len):\n",
        "    temp_set = data[i:(i + window_len)].copy()\n",
        "    inputs.append(temp_set)\n",
        "    for col in norm_cols:\n",
        "      inputs[i].loc[:, col] = inputs[i].loc[:, col] / inputs[i].loc[:, col].iloc[0] - 1  \n",
        "  return inputs\n",
        "  \n",
        "  \n",
        "  "
      ],
      "execution_count": 0,
      "outputs": []
    },
    {
      "metadata": {
        "id": "-dLlMrlCjEWU",
        "colab_type": "code",
        "colab": {
          "autoexec": {
            "startup": false,
            "wait_interval": 0
          }
        }
      },
      "cell_type": "code",
      "source": [
        "def create_outputs(data, coin, window_len=window_len):\n",
        "  \"\"\"\n",
        "  data: pandas DataFrame, this could be either training_set or test_set\n",
        "  coin: the target coin in which we need to create the output labels for\n",
        "  window_len: is an intiger to be used as the look back window for creating a single input sample.\n",
        "  This function will create the labels array for our training and validation and normalize it between 0 and 1\n",
        "  Return: Normalized numpy array for 'Close' prices of the given coin\n",
        "  \"\"\"\n",
        "  return (data[coin + '_Close'][window_len:].values / data[coin + '_Close'][:-window_len].values) - 1"
      ],
      "execution_count": 0,
      "outputs": []
    },
    {
      "metadata": {
        "id": "C7XZ7_b4jHx1",
        "colab_type": "code",
        "colab": {
          "autoexec": {
            "startup": false,
            "wait_interval": 0
          }
        }
      },
      "cell_type": "code",
      "source": [
        "def to_array(data):\n",
        "  \"\"\"\n",
        "  data: DataFrame\n",
        "  This function will convert list of inputs to a numpy array\n",
        "  Return: numpy array\n",
        "  \"\"\"\n",
        "  x = [np.array(data[i]) for i in range (len(data))]\n",
        "  return np.array(x)\n"
      ],
      "execution_count": 0,
      "outputs": []
    },
    {
      "metadata": {
        "id": "DT1pQXlXjsy6",
        "colab_type": "code",
        "colab": {
          "autoexec": {
            "startup": false,
            "wait_interval": 0
          }
        }
      },
      "cell_type": "code",
      "source": [
        ""
      ],
      "execution_count": 0,
      "outputs": []
    },
    {
      "metadata": {
        "id": "OSA7XGawjlC9",
        "colab_type": "code",
        "colab": {
          "autoexec": {
            "startup": false,
            "wait_interval": 0
          }
        }
      },
      "cell_type": "code",
      "source": [
        "def build_model(inputs, output_size, neurons, activ_func=activation_function, dropout=dropout, loss=loss, optimizer=optimizer):\n",
        "  \"\"\"\n",
        "  inputs: input data as numpy array\n",
        "  output_size: number of predictions per input sample\n",
        "  neurons: number of neurons/ units in the LSTM layer\n",
        "  active_func: Activation function to be used in LSTM layers and Dense layer\n",
        "  dropout: dropout ration, default is 0.25\n",
        "  loss: loss function for calculating the gradient\n",
        "  optimizer: type of optimizer to backpropagate the gradient\n",
        "  This function will build 3 layered RNN model with LSTM cells with dripouts after each LSTM layer \n",
        "  and finally a dense layer to produce the output using keras' sequential model.\n",
        "  Return: Keras sequential model and model summary\n",
        "  \"\"\"\n",
        "  model = Sequential()\n",
        "  model.add(LSTM(neurons, return_sequences=True, input_shape=(inputs.shape[1], inputs.shape[2]), activation=activ_func))\n",
        "  model.add(Dropout(dropout))\n",
        "  model.add(LSTM(neurons, return_sequences=True, activation=activ_func))\n",
        "  model.add(Dropout(dropout))\n",
        "  model.add(LSTM(neurons, activation=activ_func))\n",
        "  model.add(Dropout(dropout))\n",
        "  model.add(Dense(units=output_size))\n",
        "  model.add(Activation(activ_func))\n",
        "  model.compile(loss=loss, optimizer=optimizer, metrics=['mae'])\n",
        "  model.summary()\n",
        "  return model"
      ],
      "execution_count": 0,
      "outputs": []
    },
    {
      "metadata": {
        "id": "aCWn4-c2kJW6",
        "colab_type": "code",
        "colab": {
          "autoexec": {
            "startup": false,
            "wait_interval": 0
          }
        }
      },
      "cell_type": "code",
      "source": [
        "def show_plot(data, tag):\n",
        "  fig, (ax1, ax2) = plt.subplots(2,1, gridspec_kw = {'height_ratios':[3, 1]})\n",
        "  ax1.set_ylabel('Closing Price ($)',fontsize=12)\n",
        "  ax2.set_ylabel('Volume ($ bn)',fontsize=12)\n",
        "  ax2.set_yticks([int('%d000000000'%i) for i in range(10)])\n",
        "  ax2.set_yticklabels(range(10))\n",
        "  ax1.set_xticks([datetime.date(i,j,1) for i in range(2013,2019) for j in [1,7]])\n",
        "  ax1.set_xticklabels('')\n",
        "  ax2.set_xticks([datetime.date(i,j,1) for i in range(2013,2019) for j in [1,7]])\n",
        "  ax2.set_xticklabels([datetime.date(i,j,1).strftime('%b %Y')  for i in range(2013,2019) for j in [1,7]])\n",
        "  ax1.plot(data['Date'].astype(datetime.datetime),data[tag +'_Open'])\n",
        "  ax2.bar(data['Date'].astype(datetime.datetime).values, data[tag +'_Volume'].values)\n",
        "  fig.tight_layout()\n",
        "  plt.show()\n",
        "  "
      ],
      "execution_count": 0,
      "outputs": []
    },
    {
      "metadata": {
        "id": "W3yLlFYhkRUX",
        "colab_type": "code",
        "colab": {
          "autoexec": {
            "startup": false,
            "wait_interval": 0
          }
        }
      },
      "cell_type": "code",
      "source": [
        "def date_labels():\n",
        "  last_date = market_data.iloc[0, 0]\n",
        "  date_list = [last_date - datetime.timedelta(days=x) for x in range(len(X_test))]\n",
        "  return[date.strftime('%m/%d/%Y') for date in date_list][::-1]"
      ],
      "execution_count": 0,
      "outputs": []
    },
    {
      "metadata": {
        "id": "9MciMd_GkTo9",
        "colab_type": "code",
        "colab": {
          "autoexec": {
            "startup": false,
            "wait_interval": 0
          }
        }
      },
      "cell_type": "code",
      "source": [
        "def plot_results(history, model, Y_target, coin):\n",
        "  plt.figure(figsize=(25, 20))\n",
        "  plt.subplot(311)\n",
        "  plt.plot(history.epoch, history.history['loss'], )\n",
        "  plt.plot(history.epoch, history.history['val_loss'])\n",
        "  plt.xlabel('Number of Epochs')\n",
        "  plt.ylabel('Loss')\n",
        "  plt.title(coin + ' Model Loss')\n",
        "  plt.legend(['Training', 'Test'])\n",
        "\n",
        "  plt.subplot(312)\n",
        "  plt.plot(Y_target)\n",
        "  plt.plot(model.predict(X_train))\n",
        "  plt.xlabel('Dates')\n",
        "  plt.ylabel('Price')\n",
        "  plt.title(coin + ' Single Point Price Prediction on Training Set')\n",
        "  plt.legend(['Actual','Predicted'])\n",
        "\n",
        "  ax1 = plt.subplot(313)\n",
        "  plt.plot(test_set[coin + '_Close'][window_len:].values.tolist())\n",
        "  plt.plot(((np.transpose(model.predict(X_test)) + 1) * test_set[coin + '_Close'].values[:-window_len])[0])\n",
        "  plt.xlabel('Dates')\n",
        "  plt.ylabel('Price')\n",
        "  plt.title(coin + ' Single Point Price Prediction on Test Set')\n",
        "  plt.legend(['Actual','Predicted'])\n",
        "  \n",
        "  date_list = date_labels()\n",
        "  ax1.set_xticks([x for x in range(len(date_list))])\n",
        "  for label in ax1.set_xticklabels([date for date in date_list], rotation='vertical')[::2]:\n",
        "    label.set_visible(False)\n",
        "\n",
        "  plt.show()"
      ],
      "execution_count": 0,
      "outputs": []
    },
    {
      "metadata": {
        "id": "5UBAmeUfkYrV",
        "colab_type": "code",
        "colab": {
          "autoexec": {
            "startup": false,
            "wait_interval": 0
          },
          "base_uri": "https://localhost:8080/",
          "height": 221
        },
        "outputId": "891795ef-21b3-4a96-e2bc-919f82a93224",
        "executionInfo": {
          "status": "ok",
          "timestamp": 1531904989785,
          "user_tz": -330,
          "elapsed": 8233,
          "user": {
            "displayName": "Gayathri Ravichandran",
            "photoUrl": "https://lh3.googleusercontent.com/a/default-user=s128",
            "userId": "109409247234810205619"
          }
        }
      },
      "cell_type": "code",
      "source": [
        "btc_data = get_historical_data(\"bitcoin\", tag='BTC')\n",
        "eth_data = get_historical_data(\"ethereum\", tag='ETH')"
      ],
      "execution_count": 114,
      "outputs": [
        {
          "output_type": "stream",
          "text": [
            "        Date    Open*     High      Low  Close**      Volume    Market Cap\n",
            "0 2018-07-17  6739.65  7387.24  6684.17  7321.04  5961950000  115602000000\n",
            "1 2018-07-16  6357.01  6741.75  6357.01  6741.75  4725800000  109029000000\n",
            "2 2018-07-15  6272.70  6403.46  6256.51  6359.64  3285460000  107573000000\n",
            "3 2018-07-14  6247.50  6298.19  6212.22  6276.12  2923670000  107130000000\n",
            "4 2018-07-13  6235.03  6310.55  6192.24  6238.05  3805400000  106906000000\n",
            "        Date   Open*    High     Low  Close**      Volume   Market Cap\n",
            "0 2018-07-17  480.08  508.78  468.92   501.00  2288100000  48360500000\n",
            "1 2018-07-16  450.43  480.66  446.80   480.66  1858680000  45364300000\n",
            "2 2018-07-15  435.88  454.00  433.92   449.85  1350160000  43890800000\n",
            "3 2018-07-14  434.51  439.43  431.47   436.09  1235820000  43743700000\n",
            "4 2018-07-13  430.74  442.36  430.74   434.03  1489670000  43355400000\n"
          ],
          "name": "stdout"
        }
      ]
    },
    {
      "metadata": {
        "id": "c5-Szk7pkf-N",
        "colab_type": "code",
        "colab": {
          "autoexec": {
            "startup": false,
            "wait_interval": 0
          },
          "base_uri": "https://localhost:8080/",
          "height": 204
        },
        "outputId": "f24d55b3-4b88-4afe-bf89-4b5d063cefcb",
        "executionInfo": {
          "status": "ok",
          "timestamp": 1531904991314,
          "user_tz": -330,
          "elapsed": 1086,
          "user": {
            "displayName": "Gayathri Ravichandran",
            "photoUrl": "https://lh3.googleusercontent.com/a/default-user=s128",
            "userId": "109409247234810205619"
          }
        }
      },
      "cell_type": "code",
      "source": [
        "eth_data.head()\n"
      ],
      "execution_count": 115,
      "outputs": [
        {
          "output_type": "execute_result",
          "data": {
            "text/html": [
              "<div>\n",
              "<style scoped>\n",
              "    .dataframe tbody tr th:only-of-type {\n",
              "        vertical-align: middle;\n",
              "    }\n",
              "\n",
              "    .dataframe tbody tr th {\n",
              "        vertical-align: top;\n",
              "    }\n",
              "\n",
              "    .dataframe thead th {\n",
              "        text-align: right;\n",
              "    }\n",
              "</style>\n",
              "<table border=\"1\" class=\"dataframe\">\n",
              "  <thead>\n",
              "    <tr style=\"text-align: right;\">\n",
              "      <th></th>\n",
              "      <th>Date</th>\n",
              "      <th>ETH_Open</th>\n",
              "      <th>ETH_High</th>\n",
              "      <th>ETH_Low</th>\n",
              "      <th>ETH_Close</th>\n",
              "      <th>ETH_Volume</th>\n",
              "      <th>ETH_Market Cap</th>\n",
              "    </tr>\n",
              "  </thead>\n",
              "  <tbody>\n",
              "    <tr>\n",
              "      <th>0</th>\n",
              "      <td>2018-07-17</td>\n",
              "      <td>480.08</td>\n",
              "      <td>508.78</td>\n",
              "      <td>468.92</td>\n",
              "      <td>501.00</td>\n",
              "      <td>2288100000</td>\n",
              "      <td>48360500000</td>\n",
              "    </tr>\n",
              "    <tr>\n",
              "      <th>1</th>\n",
              "      <td>2018-07-16</td>\n",
              "      <td>450.43</td>\n",
              "      <td>480.66</td>\n",
              "      <td>446.80</td>\n",
              "      <td>480.66</td>\n",
              "      <td>1858680000</td>\n",
              "      <td>45364300000</td>\n",
              "    </tr>\n",
              "    <tr>\n",
              "      <th>2</th>\n",
              "      <td>2018-07-15</td>\n",
              "      <td>435.88</td>\n",
              "      <td>454.00</td>\n",
              "      <td>433.92</td>\n",
              "      <td>449.85</td>\n",
              "      <td>1350160000</td>\n",
              "      <td>43890800000</td>\n",
              "    </tr>\n",
              "    <tr>\n",
              "      <th>3</th>\n",
              "      <td>2018-07-14</td>\n",
              "      <td>434.51</td>\n",
              "      <td>439.43</td>\n",
              "      <td>431.47</td>\n",
              "      <td>436.09</td>\n",
              "      <td>1235820000</td>\n",
              "      <td>43743700000</td>\n",
              "    </tr>\n",
              "    <tr>\n",
              "      <th>4</th>\n",
              "      <td>2018-07-13</td>\n",
              "      <td>430.74</td>\n",
              "      <td>442.36</td>\n",
              "      <td>430.74</td>\n",
              "      <td>434.03</td>\n",
              "      <td>1489670000</td>\n",
              "      <td>43355400000</td>\n",
              "    </tr>\n",
              "  </tbody>\n",
              "</table>\n",
              "</div>"
            ],
            "text/plain": [
              "        Date  ETH_Open  ETH_High  ETH_Low  ETH_Close  ETH_Volume  \\\n",
              "0 2018-07-17    480.08    508.78   468.92     501.00  2288100000   \n",
              "1 2018-07-16    450.43    480.66   446.80     480.66  1858680000   \n",
              "2 2018-07-15    435.88    454.00   433.92     449.85  1350160000   \n",
              "3 2018-07-14    434.51    439.43   431.47     436.09  1235820000   \n",
              "4 2018-07-13    430.74    442.36   430.74     434.03  1489670000   \n",
              "\n",
              "  ETH_Market Cap  \n",
              "0    48360500000  \n",
              "1    45364300000  \n",
              "2    43890800000  \n",
              "3    43743700000  \n",
              "4    43355400000  "
            ]
          },
          "metadata": {
            "tags": []
          },
          "execution_count": 115
        }
      ]
    },
    {
      "metadata": {
        "id": "_1K6gB-MnZSV",
        "colab_type": "code",
        "colab": {
          "autoexec": {
            "startup": false,
            "wait_interval": 0
          },
          "base_uri": "https://localhost:8080/",
          "height": 204
        },
        "outputId": "2ac92817-5e7a-4947-ca33-0fbb976a4417",
        "executionInfo": {
          "status": "ok",
          "timestamp": 1531905020831,
          "user_tz": -330,
          "elapsed": 1527,
          "user": {
            "displayName": "Gayathri Ravichandran",
            "photoUrl": "https://lh3.googleusercontent.com/a/default-user=s128",
            "userId": "109409247234810205619"
          }
        }
      },
      "cell_type": "code",
      "source": [
        "btc_data.head()\n"
      ],
      "execution_count": 116,
      "outputs": [
        {
          "output_type": "execute_result",
          "data": {
            "text/html": [
              "<div>\n",
              "<style scoped>\n",
              "    .dataframe tbody tr th:only-of-type {\n",
              "        vertical-align: middle;\n",
              "    }\n",
              "\n",
              "    .dataframe tbody tr th {\n",
              "        vertical-align: top;\n",
              "    }\n",
              "\n",
              "    .dataframe thead th {\n",
              "        text-align: right;\n",
              "    }\n",
              "</style>\n",
              "<table border=\"1\" class=\"dataframe\">\n",
              "  <thead>\n",
              "    <tr style=\"text-align: right;\">\n",
              "      <th></th>\n",
              "      <th>Date</th>\n",
              "      <th>BTC_Open</th>\n",
              "      <th>BTC_High</th>\n",
              "      <th>BTC_Low</th>\n",
              "      <th>BTC_Close</th>\n",
              "      <th>BTC_Volume</th>\n",
              "      <th>BTC_Market Cap</th>\n",
              "    </tr>\n",
              "  </thead>\n",
              "  <tbody>\n",
              "    <tr>\n",
              "      <th>0</th>\n",
              "      <td>2018-07-17</td>\n",
              "      <td>6739.65</td>\n",
              "      <td>7387.24</td>\n",
              "      <td>6684.17</td>\n",
              "      <td>7321.04</td>\n",
              "      <td>5.961950e+09</td>\n",
              "      <td>115602000000</td>\n",
              "    </tr>\n",
              "    <tr>\n",
              "      <th>1</th>\n",
              "      <td>2018-07-16</td>\n",
              "      <td>6357.01</td>\n",
              "      <td>6741.75</td>\n",
              "      <td>6357.01</td>\n",
              "      <td>6741.75</td>\n",
              "      <td>4.725800e+09</td>\n",
              "      <td>109029000000</td>\n",
              "    </tr>\n",
              "    <tr>\n",
              "      <th>2</th>\n",
              "      <td>2018-07-15</td>\n",
              "      <td>6272.70</td>\n",
              "      <td>6403.46</td>\n",
              "      <td>6256.51</td>\n",
              "      <td>6359.64</td>\n",
              "      <td>3.285460e+09</td>\n",
              "      <td>107573000000</td>\n",
              "    </tr>\n",
              "    <tr>\n",
              "      <th>3</th>\n",
              "      <td>2018-07-14</td>\n",
              "      <td>6247.50</td>\n",
              "      <td>6298.19</td>\n",
              "      <td>6212.22</td>\n",
              "      <td>6276.12</td>\n",
              "      <td>2.923670e+09</td>\n",
              "      <td>107130000000</td>\n",
              "    </tr>\n",
              "    <tr>\n",
              "      <th>4</th>\n",
              "      <td>2018-07-13</td>\n",
              "      <td>6235.03</td>\n",
              "      <td>6310.55</td>\n",
              "      <td>6192.24</td>\n",
              "      <td>6238.05</td>\n",
              "      <td>3.805400e+09</td>\n",
              "      <td>106906000000</td>\n",
              "    </tr>\n",
              "  </tbody>\n",
              "</table>\n",
              "</div>"
            ],
            "text/plain": [
              "        Date  BTC_Open  BTC_High  BTC_Low  BTC_Close    BTC_Volume  \\\n",
              "0 2018-07-17   6739.65   7387.24  6684.17    7321.04  5.961950e+09   \n",
              "1 2018-07-16   6357.01   6741.75  6357.01    6741.75  4.725800e+09   \n",
              "2 2018-07-15   6272.70   6403.46  6256.51    6359.64  3.285460e+09   \n",
              "3 2018-07-14   6247.50   6298.19  6212.22    6276.12  2.923670e+09   \n",
              "4 2018-07-13   6235.03   6310.55  6192.24    6238.05  3.805400e+09   \n",
              "\n",
              "   BTC_Market Cap  \n",
              "0    115602000000  \n",
              "1    109029000000  \n",
              "2    107573000000  \n",
              "3    107130000000  \n",
              "4    106906000000  "
            ]
          },
          "metadata": {
            "tags": []
          },
          "execution_count": 116
        }
      ]
    },
    {
      "metadata": {
        "id": "aSvlJ_W8lENA",
        "colab_type": "code",
        "colab": {
          "autoexec": {
            "startup": false,
            "wait_interval": 0
          }
        }
      },
      "cell_type": "code",
      "source": [
        "\n",
        "market_data  = merge_data(btc_data, eth_data)\n",
        "model_data = feature_selection(market_data)\n",
        "train_set, test_set = split_data(model_data)"
      ],
      "execution_count": 0,
      "outputs": []
    },
    {
      "metadata": {
        "id": "EzDqRNAhkhKK",
        "colab_type": "code",
        "colab": {
          "autoexec": {
            "startup": false,
            "wait_interval": 0
          },
          "base_uri": "https://localhost:8080/",
          "height": 785
        },
        "outputId": "f5f35706-5d67-412e-c4e7-239630d986ad",
        "executionInfo": {
          "status": "ok",
          "timestamp": 1531905033251,
          "user_tz": -330,
          "elapsed": 6864,
          "user": {
            "displayName": "Gayathri Ravichandran",
            "photoUrl": "https://lh3.googleusercontent.com/a/default-user=s128",
            "userId": "109409247234810205619"
          }
        }
      },
      "cell_type": "code",
      "source": [
        "show_plot(btc_data, tag='BTC')\n",
        "show_plot(eth_data, tag='ETH')"
      ],
      "execution_count": 118,
      "outputs": [
        {
          "output_type": "display_data",
          "data": {
            "image/png": "[encoded data removed]",
            "text/plain": [
              "<matplotlib.figure.Figure at 0x7f85c526a278>"
            ]
          },
          "metadata": {
            "tags": []
          }
        },
        {
          "output_type": "display_data",
          "data": {
            "image/png": "[encoded data removed]",
            "text/plain": [
              "<matplotlib.figure.Figure at 0x7f85c526a3c8>"
            ]
          },
          "metadata": {
            "tags": []
          }
        }
      ]
    },
    {
      "metadata": {
        "id": "GM6C05lFmHWH",
        "colab_type": "code",
        "colab": {
          "autoexec": {
            "startup": false,
            "wait_interval": 0
          },
          "base_uri": "https://localhost:8080/",
          "height": 51
        },
        "outputId": "8964b4df-9bd5-42e8-9018-e7a1ab393d1c",
        "executionInfo": {
          "status": "ok",
          "timestamp": 1531905038851,
          "user_tz": -330,
          "elapsed": 2096,
          "user": {
            "displayName": "Gayathri Ravichandran",
            "photoUrl": "https://lh3.googleusercontent.com/a/default-user=s128",
            "userId": "109409247234810205619"
          }
        }
      },
      "cell_type": "code",
      "source": [
        "\n",
        "train_settrain_se  = train_set.drop('Date', 1)\n",
        "test_set = test_set.drop('Date', 1)\n",
        "\n",
        "X_train = create_inputs(train_set)\n",
        "Y_train_btc = create_outputs(train_set, coin='BTC')\n",
        "X_test = create_inputs(test_set)\n",
        "Y_test_btc = create_outputs(test_set, coin='BTC')\n",
        "\n",
        "Y_train_eth = create_outputs(train_set, coin='ETH')\n",
        "Y_test_eth = create_outputs(test_set, coin='ETH')\n",
        "\n",
        "X_train, X_test = to_array(X_train), to_array(X_test)\n",
        "\n",
        "print (np.shape(X_train), np.shape(X_test), np.shape(Y_train_btc), np.shape(Y_test_btc))\n",
        "print (np.shape(X_train), np.shape(X_test), np.shape(Y_train_eth), np.shape(Y_test_eth))"
      ],
      "execution_count": 119,
      "outputs": [
        {
          "output_type": "stream",
          "text": [
            "(151, 7, 5) (33, 7, 4) (151,) (33,)\n",
            "(151, 7, 5) (33, 7, 4) (151,) (33,)\n"
          ],
          "name": "stdout"
        }
      ]
    },
    {
      "metadata": {
        "id": "j9qBk1s3nx8g",
        "colab_type": "code",
        "colab": {
          "autoexec": {
            "startup": false,
            "wait_interval": 0
          },
          "base_uri": "https://localhost:8080/",
          "height": 1085
        },
        "outputId": "c9ad6e1e-959b-4b1a-ce1e-e321e9f2bf08",
        "executionInfo": {
          "status": "error",
          "timestamp": 1531905406199,
          "user_tz": -330,
          "elapsed": 4314,
          "user": {
            "displayName": "Gayathri Ravichandran",
            "photoUrl": "https://lh3.googleusercontent.com/a/default-user=s128",
            "userId": "109409247234810205619"
          }
        }
      },
      "cell_type": "code",
      "source": [
        "# clean up the memory\n",
        "gc.collect()\n",
        "# random seed for reproducibility\n",
        "np.random.seed(202)\n",
        "\n",
        "# initialise model architecture\n",
        "btc_model = build_model(X_train, output_size=1, neurons=neurons)\n",
        "\n",
        "# train model on data\n",
        "btc_history = btc_model.fit(X_train, Y_train_btc, epochs=epochs, batch_size=batch_size, verbose=1, validation_data=(X_test, Y_test_btc), shuffle=False)"
      ],
      "execution_count": 122,
      "outputs": [
        {
          "output_type": "stream",
          "text": [
            "_________________________________________________________________\n",
            "Layer (type)                 Output Shape              Param #   \n",
            "=================================================================\n",
            "lstm_13 (LSTM)               (None, 7, 512)            1060864   \n",
            "_________________________________________________________________\n",
            "dropout_13 (Dropout)         (None, 7, 512)            0         \n",
            "_________________________________________________________________\n",
            "lstm_14 (LSTM)               (None, 7, 512)            2099200   \n",
            "_________________________________________________________________\n",
            "dropout_14 (Dropout)         (None, 7, 512)            0         \n",
            "_________________________________________________________________\n",
            "lstm_15 (LSTM)               (None, 512)               2099200   \n",
            "_________________________________________________________________\n",
            "dropout_15 (Dropout)         (None, 512)               0         \n",
            "_________________________________________________________________\n",
            "dense_5 (Dense)              (None, 1)                 513       \n",
            "_________________________________________________________________\n",
            "activation_5 (Activation)    (None, 1)                 0         \n",
            "=================================================================\n",
            "Total params: 5,259,777\n",
            "Trainable params: 5,259,777\n",
            "Non-trainable params: 0\n",
            "_________________________________________________________________\n"
          ],
          "name": "stdout"
        },
        {
          "output_type": "error",
          "ename": "ValueError",
          "evalue": "ignored",
          "traceback": [
            "\u001b[0;31m---------------------------------------------------------------------------\u001b[0m",
            "\u001b[0;31mValueError\u001b[0m                                Traceback (most recent call last)",
            "\u001b[0;32m<ipython-input-122-47d74e91e61d>\u001b[0m in \u001b[0;36m<module>\u001b[0;34m()\u001b[0m\n\u001b[1;32m      7\u001b[0m \u001b[0;34m\u001b[0m\u001b[0m\n\u001b[1;32m      8\u001b[0m \u001b[0;31m# train model on data\u001b[0m\u001b[0;34m\u001b[0m\u001b[0;34m\u001b[0m\u001b[0m\n\u001b[0;32m----> 9\u001b[0;31m \u001b[0mbtc_history\u001b[0m \u001b[0;34m=\u001b[0m \u001b[0mbtc_model\u001b[0m\u001b[0;34m.\u001b[0m\u001b[0mfit\u001b[0m\u001b[0;34m(\u001b[0m\u001b[0mX_train\u001b[0m\u001b[0;34m,\u001b[0m \u001b[0mY_train_btc\u001b[0m\u001b[0;34m,\u001b[0m \u001b[0mepochs\u001b[0m\u001b[0;34m=\u001b[0m\u001b[0mepochs\u001b[0m\u001b[0;34m,\u001b[0m \u001b[0mbatch_size\u001b[0m\u001b[0;34m=\u001b[0m\u001b[0mbatch_size\u001b[0m\u001b[0;34m,\u001b[0m \u001b[0mverbose\u001b[0m\u001b[0;34m=\u001b[0m\u001b[0;36m1\u001b[0m\u001b[0;34m,\u001b[0m \u001b[0mvalidation_data\u001b[0m\u001b[0;34m=\u001b[0m\u001b[0;34m(\u001b[0m\u001b[0mX_test\u001b[0m\u001b[0;34m,\u001b[0m \u001b[0mY_test_btc\u001b[0m\u001b[0;34m)\u001b[0m\u001b[0;34m,\u001b[0m \u001b[0mshuffle\u001b[0m\u001b[0;34m=\u001b[0m\u001b[0;32mFalse\u001b[0m\u001b[0;34m)\u001b[0m\u001b[0;34m\u001b[0m\u001b[0m\n\u001b[0m",
            "\u001b[0;32m/usr/local/lib/python3.6/dist-packages/keras/models.py\u001b[0m in \u001b[0;36mfit\u001b[0;34m(self, x, y, batch_size, epochs, verbose, callbacks, validation_split, validation_data, shuffle, class_weight, sample_weight, initial_epoch, steps_per_epoch, validation_steps, **kwargs)\u001b[0m\n\u001b[1;32m   1000\u001b[0m                               \u001b[0minitial_epoch\u001b[0m\u001b[0;34m=\u001b[0m\u001b[0minitial_epoch\u001b[0m\u001b[0;34m,\u001b[0m\u001b[0;34m\u001b[0m\u001b[0m\n\u001b[1;32m   1001\u001b[0m                               \u001b[0msteps_per_epoch\u001b[0m\u001b[0;34m=\u001b[0m\u001b[0msteps_per_epoch\u001b[0m\u001b[0;34m,\u001b[0m\u001b[0;34m\u001b[0m\u001b[0m\n\u001b[0;32m-> 1002\u001b[0;31m                               validation_steps=validation_steps)\n\u001b[0m\u001b[1;32m   1003\u001b[0m \u001b[0;34m\u001b[0m\u001b[0m\n\u001b[1;32m   1004\u001b[0m     def evaluate(self, x=None, y=None,\n",
            "\u001b[0;32m/usr/local/lib/python3.6/dist-packages/keras/engine/training.py\u001b[0m in \u001b[0;36mfit\u001b[0;34m(self, x, y, batch_size, epochs, verbose, callbacks, validation_split, validation_data, shuffle, class_weight, sample_weight, initial_epoch, steps_per_epoch, validation_steps, **kwargs)\u001b[0m\n\u001b[1;32m   1648\u001b[0m                 \u001b[0mval_x\u001b[0m\u001b[0;34m,\u001b[0m \u001b[0mval_y\u001b[0m\u001b[0;34m,\u001b[0m\u001b[0;34m\u001b[0m\u001b[0m\n\u001b[1;32m   1649\u001b[0m                 \u001b[0msample_weight\u001b[0m\u001b[0;34m=\u001b[0m\u001b[0mval_sample_weight\u001b[0m\u001b[0;34m,\u001b[0m\u001b[0;34m\u001b[0m\u001b[0m\n\u001b[0;32m-> 1650\u001b[0;31m                 batch_size=batch_size)\n\u001b[0m\u001b[1;32m   1651\u001b[0m             \u001b[0;32mif\u001b[0m \u001b[0mself\u001b[0m\u001b[0;34m.\u001b[0m\u001b[0muses_learning_phase\u001b[0m \u001b[0;32mand\u001b[0m \u001b[0;32mnot\u001b[0m \u001b[0misinstance\u001b[0m\u001b[0;34m(\u001b[0m\u001b[0mK\u001b[0m\u001b[0;34m.\u001b[0m\u001b[0mlearning_phase\u001b[0m\u001b[0;34m(\u001b[0m\u001b[0;34m)\u001b[0m\u001b[0;34m,\u001b[0m \u001b[0mint\u001b[0m\u001b[0;34m)\u001b[0m\u001b[0;34m:\u001b[0m\u001b[0;34m\u001b[0m\u001b[0m\n\u001b[1;32m   1652\u001b[0m                 \u001b[0mval_ins\u001b[0m \u001b[0;34m=\u001b[0m \u001b[0mval_x\u001b[0m \u001b[0;34m+\u001b[0m \u001b[0mval_y\u001b[0m \u001b[0;34m+\u001b[0m \u001b[0mval_sample_weights\u001b[0m \u001b[0;34m+\u001b[0m \u001b[0;34m[\u001b[0m\u001b[0;36m0.\u001b[0m\u001b[0;34m]\u001b[0m\u001b[0;34m\u001b[0m\u001b[0m\n",
            "\u001b[0;32m/usr/local/lib/python3.6/dist-packages/keras/engine/training.py\u001b[0m in \u001b[0;36m_standardize_user_data\u001b[0;34m(self, x, y, sample_weight, class_weight, check_array_lengths, batch_size)\u001b[0m\n\u001b[1;32m   1474\u001b[0m                                     \u001b[0mself\u001b[0m\u001b[0;34m.\u001b[0m\u001b[0m_feed_input_shapes\u001b[0m\u001b[0;34m,\u001b[0m\u001b[0;34m\u001b[0m\u001b[0m\n\u001b[1;32m   1475\u001b[0m                                     \u001b[0mcheck_batch_axis\u001b[0m\u001b[0;34m=\u001b[0m\u001b[0;32mFalse\u001b[0m\u001b[0;34m,\u001b[0m\u001b[0;34m\u001b[0m\u001b[0m\n\u001b[0;32m-> 1476\u001b[0;31m                                     exception_prefix='input')\n\u001b[0m\u001b[1;32m   1477\u001b[0m         y = _standardize_input_data(y, self._feed_output_names,\n\u001b[1;32m   1478\u001b[0m                                     \u001b[0moutput_shapes\u001b[0m\u001b[0;34m,\u001b[0m\u001b[0;34m\u001b[0m\u001b[0m\n",
            "\u001b[0;32m/usr/local/lib/python3.6/dist-packages/keras/engine/training.py\u001b[0m in \u001b[0;36m_standardize_input_data\u001b[0;34m(data, names, shapes, check_batch_axis, exception_prefix)\u001b[0m\n\u001b[1;32m    121\u001b[0m                             \u001b[0;34m': expected '\u001b[0m \u001b[0;34m+\u001b[0m \u001b[0mnames\u001b[0m\u001b[0;34m[\u001b[0m\u001b[0mi\u001b[0m\u001b[0;34m]\u001b[0m \u001b[0;34m+\u001b[0m \u001b[0;34m' to have shape '\u001b[0m \u001b[0;34m+\u001b[0m\u001b[0;34m\u001b[0m\u001b[0m\n\u001b[1;32m    122\u001b[0m                             \u001b[0mstr\u001b[0m\u001b[0;34m(\u001b[0m\u001b[0mshape\u001b[0m\u001b[0;34m)\u001b[0m \u001b[0;34m+\u001b[0m \u001b[0;34m' but got array with shape '\u001b[0m \u001b[0;34m+\u001b[0m\u001b[0;34m\u001b[0m\u001b[0m\n\u001b[0;32m--> 123\u001b[0;31m                             str(data_shape))\n\u001b[0m\u001b[1;32m    124\u001b[0m     \u001b[0;32mreturn\u001b[0m \u001b[0mdata\u001b[0m\u001b[0;34m\u001b[0m\u001b[0m\n\u001b[1;32m    125\u001b[0m \u001b[0;34m\u001b[0m\u001b[0m\n",
            "\u001b[0;31mValueError\u001b[0m: Error when checking input: expected lstm_13_input to have shape (7, 5) but got array with shape (7, 4)"
          ]
        }
      ]
    }
  ]
}